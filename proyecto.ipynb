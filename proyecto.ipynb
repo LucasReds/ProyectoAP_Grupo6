{
 "cells": [
  {
   "cell_type": "code",
   "execution_count": null,
   "id": "f44d9a0d",
   "metadata": {},
   "outputs": [],
   "source": []
  }
 ],
 "metadata": {
  "language_info": {
   "name": "python"
  }
 },
 "nbformat": 4,
 "nbformat_minor": 5
}
